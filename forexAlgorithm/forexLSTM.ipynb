{
 "cells": [
  {
   "cell_type": "code",
   "execution_count": 1,
   "metadata": {},
   "outputs": [],
   "source": [
    "import numpy as np\n",
    "import matplotlib.pyplot as plt\n",
    "import pandas as pd\n",
    "import math\n",
    "import yfinance as yf\n",
    "from datetime import datetime, timedelta\n",
    "from keras.models import Sequential\n",
    "from keras.layers import Dense\n",
    "from keras.layers import LSTM\n",
    "from keras.layers import Dropout\n",
    "from sklearn.preprocessing import MinMaxScaler\n"
   ]
  },
  {
   "cell_type": "code",
   "execution_count": 2,
   "metadata": {},
   "outputs": [
    {
     "name": "stdout",
     "output_type": "stream",
     "text": [
      "[*********************100%***********************]  1 of 1 completed\n"
     ]
    }
   ],
   "source": [
    "df=yf.download(tickers='EURUSD=X',start='2010-01-01',end='2019-12-31',interval ='1d')\n",
    "df = df.filter(['Close'])\n",
    "dataset = df.values\n",
    "train_len = math.ceil( len(dataset) *.9) \n",
    "scaler = MinMaxScaler(feature_range = (0, 1))\n",
    "training_data = scaler.fit_transform(dataset[:train_len , : ]) \n",
    "x_train =[] \n",
    "y_train =[] \n",
    "\n",
    "for i in range(60, len(training_data)):\n",
    "    x_train.append(training_data[i-60:i,0])\n",
    "    y_train.append(training_data[i,0])\n",
    "    \n",
    "x_train,y_train = np.array(x_train), np.array(y_train)\n",
    "x_train= np.reshape(x_train,( x_train.shape[0] ,x_train.shape[1] ,1))"
   ]
  },
  {
   "cell_type": "code",
   "execution_count": 3,
   "metadata": {},
   "outputs": [],
   "source": [
    "test_data = scaler.transform(dataset[train_len - 60: , : ])\n",
    "x_test = []\n",
    "y_test = []\n",
    "\n",
    "for i in range(60,len(test_data)):\n",
    "    x_test.append(test_data[i-60:i,0])\n",
    "    y_test.append(test_data[i,0])\n",
    "    \n",
    "x_test, y_test = np.array(x_test), np.array(y_test)\n",
    "x_test = np.reshape(x_test, (x_test.shape[0],x_test.shape[1],1))"
   ]
  },
  {
   "cell_type": "code",
   "execution_count": 4,
   "metadata": {},
   "outputs": [],
   "source": [
    "forexPredictor = Sequential()\n",
    "forexPredictor.add(LSTM(50, return_sequences = True, input_shape=(x_train.shape[1], 1)))\n",
    "forexPredictor.add(Dropout(0.2))\n",
    "forexPredictor.add(LSTM( 50, return_sequences = False))\n",
    "forexPredictor.add(Dropout(0.2))\n",
    "forexPredictor.add(Dense(50))\n",
    "forexPredictor.add(Dense(1))\n",
    "forexPredictor.compile(optimizer = 'adam', loss = 'mean_squared_error')"
   ]
  },
  {
   "cell_type": "code",
   "execution_count": 5,
   "metadata": {},
   "outputs": [
    {
     "name": "stdout",
     "output_type": "stream",
     "text": [
      "Epoch 1/100\n",
      "72/72 [==============================] - 7s 41ms/step - loss: 0.0447\n",
      "Epoch 2/100\n",
      "72/72 [==============================] - 3s 36ms/step - loss: 0.0035\n",
      "Epoch 3/100\n",
      "72/72 [==============================] - 3s 35ms/step - loss: 0.0030\n",
      "Epoch 4/100\n",
      "72/72 [==============================] - 3s 35ms/step - loss: 0.0026\n",
      "Epoch 5/100\n",
      "72/72 [==============================] - 3s 35ms/step - loss: 0.0024\n",
      "Epoch 6/100\n",
      "72/72 [==============================] - 3s 35ms/step - loss: 0.0021\n",
      "Epoch 7/100\n",
      "72/72 [==============================] - 3s 35ms/step - loss: 0.0021\n",
      "Epoch 8/100\n",
      "72/72 [==============================] - 3s 35ms/step - loss: 0.0020\n",
      "Epoch 9/100\n",
      "72/72 [==============================] - 2s 34ms/step - loss: 0.0020\n",
      "Epoch 10/100\n",
      "72/72 [==============================] - 2s 34ms/step - loss: 0.0016\n",
      "Epoch 11/100\n",
      "72/72 [==============================] - 2s 34ms/step - loss: 0.0016\n",
      "Epoch 12/100\n",
      "72/72 [==============================] - 3s 36ms/step - loss: 0.0015\n",
      "Epoch 13/100\n",
      "72/72 [==============================] - 2s 34ms/step - loss: 0.0014\n",
      "Epoch 14/100\n",
      "72/72 [==============================] - 2s 34ms/step - loss: 0.0013\n",
      "Epoch 15/100\n",
      "72/72 [==============================] - 2s 33ms/step - loss: 0.0013\n",
      "Epoch 16/100\n",
      "72/72 [==============================] - 2s 33ms/step - loss: 0.0013\n",
      "Epoch 17/100\n",
      "72/72 [==============================] - 2s 33ms/step - loss: 0.0013\n",
      "Epoch 18/100\n",
      "72/72 [==============================] - 2s 33ms/step - loss: 0.0012\n",
      "Epoch 19/100\n",
      "72/72 [==============================] - 2s 33ms/step - loss: 0.0012\n",
      "Epoch 20/100\n",
      "72/72 [==============================] - 2s 33ms/step - loss: 0.0013\n",
      "Epoch 21/100\n",
      "72/72 [==============================] - 2s 33ms/step - loss: 0.0011\n",
      "Epoch 22/100\n",
      "72/72 [==============================] - 2s 35ms/step - loss: 0.0011\n",
      "Epoch 23/100\n",
      "72/72 [==============================] - 2s 34ms/step - loss: 0.0010\n",
      "Epoch 24/100\n",
      "72/72 [==============================] - 2s 34ms/step - loss: 0.0011\n",
      "Epoch 25/100\n",
      "72/72 [==============================] - 2s 34ms/step - loss: 0.0011\n",
      "Epoch 26/100\n",
      "72/72 [==============================] - 2s 34ms/step - loss: 0.0010\n",
      "Epoch 27/100\n",
      "72/72 [==============================] - 2s 34ms/step - loss: 0.0010\n",
      "Epoch 28/100\n",
      "72/72 [==============================] - 2s 34ms/step - loss: 0.0010\n",
      "Epoch 29/100\n",
      "72/72 [==============================] - 2s 34ms/step - loss: 0.0011\n",
      "Epoch 30/100\n",
      "72/72 [==============================] - 2s 34ms/step - loss: 9.5997e-04\n",
      "Epoch 31/100\n",
      "72/72 [==============================] - 2s 34ms/step - loss: 9.7117e-04\n",
      "Epoch 32/100\n",
      "72/72 [==============================] - 2s 34ms/step - loss: 9.2460e-04\n",
      "Epoch 33/100\n",
      "72/72 [==============================] - 2s 34ms/step - loss: 9.6453e-04\n",
      "Epoch 34/100\n",
      "72/72 [==============================] - 2s 35ms/step - loss: 9.3199e-04\n",
      "Epoch 35/100\n",
      "72/72 [==============================] - 2s 34ms/step - loss: 9.3135e-04\n",
      "Epoch 36/100\n",
      "72/72 [==============================] - 2s 35ms/step - loss: 9.4747e-04\n",
      "Epoch 37/100\n",
      "72/72 [==============================] - 2s 34ms/step - loss: 0.0011\n",
      "Epoch 38/100\n",
      "72/72 [==============================] - 2s 34ms/step - loss: 9.3984e-04\n",
      "Epoch 39/100\n",
      "72/72 [==============================] - 2s 33ms/step - loss: 9.1989e-04\n",
      "Epoch 40/100\n",
      "72/72 [==============================] - 2s 34ms/step - loss: 9.7940e-04\n",
      "Epoch 41/100\n",
      "72/72 [==============================] - 2s 33ms/step - loss: 9.3550e-04\n",
      "Epoch 42/100\n",
      "72/72 [==============================] - 2s 34ms/step - loss: 8.8099e-04\n",
      "Epoch 43/100\n",
      "72/72 [==============================] - 2s 33ms/step - loss: 9.8012e-04\n",
      "Epoch 44/100\n",
      "72/72 [==============================] - 2s 34ms/step - loss: 0.0010\n",
      "Epoch 45/100\n",
      "72/72 [==============================] - 2s 33ms/step - loss: 9.3271e-04\n",
      "Epoch 46/100\n",
      "72/72 [==============================] - 2s 33ms/step - loss: 8.7613e-04\n",
      "Epoch 47/100\n",
      "72/72 [==============================] - 2s 33ms/step - loss: 8.9313e-04\n",
      "Epoch 48/100\n",
      "72/72 [==============================] - 2s 33ms/step - loss: 8.6716e-04\n",
      "Epoch 49/100\n",
      "72/72 [==============================] - 2s 34ms/step - loss: 9.2737e-04\n",
      "Epoch 50/100\n",
      "72/72 [==============================] - 2s 34ms/step - loss: 8.8860e-04\n",
      "Epoch 51/100\n",
      "72/72 [==============================] - 3s 35ms/step - loss: 8.5334e-04\n",
      "Epoch 52/100\n",
      "72/72 [==============================] - 2s 33ms/step - loss: 8.6000e-04\n",
      "Epoch 53/100\n",
      "72/72 [==============================] - 2s 33ms/step - loss: 8.9941e-04\n",
      "Epoch 54/100\n",
      "72/72 [==============================] - 2s 34ms/step - loss: 9.3818e-04\n",
      "Epoch 55/100\n",
      "72/72 [==============================] - 2s 35ms/step - loss: 9.8180e-04\n",
      "Epoch 56/100\n",
      "72/72 [==============================] - 3s 35ms/step - loss: 8.4280e-04\n",
      "Epoch 57/100\n",
      "72/72 [==============================] - 3s 35ms/step - loss: 8.7971e-04\n",
      "Epoch 58/100\n",
      "72/72 [==============================] - 3s 35ms/step - loss: 9.2939e-04\n",
      "Epoch 59/100\n",
      "72/72 [==============================] - 3s 37ms/step - loss: 8.3858e-04\n",
      "Epoch 60/100\n",
      "72/72 [==============================] - 3s 41ms/step - loss: 8.9498e-04\n",
      "Epoch 61/100\n",
      "72/72 [==============================] - 3s 36ms/step - loss: 9.3180e-04\n",
      "Epoch 62/100\n",
      "72/72 [==============================] - 3s 35ms/step - loss: 8.7592e-04\n",
      "Epoch 63/100\n",
      "72/72 [==============================] - 3s 35ms/step - loss: 8.4261e-04\n",
      "Epoch 64/100\n",
      "72/72 [==============================] - 3s 35ms/step - loss: 7.9321e-04\n",
      "Epoch 65/100\n",
      "72/72 [==============================] - 3s 37ms/step - loss: 0.0010\n",
      "Epoch 66/100\n",
      "72/72 [==============================] - 3s 37ms/step - loss: 8.0088e-04\n",
      "Epoch 67/100\n",
      "72/72 [==============================] - 2s 34ms/step - loss: 8.4172e-04\n",
      "Epoch 68/100\n",
      "72/72 [==============================] - 2s 33ms/step - loss: 8.3885e-04\n",
      "Epoch 69/100\n",
      "72/72 [==============================] - 3s 35ms/step - loss: 7.3036e-04\n",
      "Epoch 70/100\n",
      "72/72 [==============================] - 3s 37ms/step - loss: 8.0761e-04\n",
      "Epoch 71/100\n",
      "72/72 [==============================] - 3s 41ms/step - loss: 8.1550e-04\n",
      "Epoch 72/100\n",
      "72/72 [==============================] - 3s 40ms/step - loss: 7.7099e-04\n",
      "Epoch 73/100\n",
      "72/72 [==============================] - 3s 35ms/step - loss: 8.2936e-04\n",
      "Epoch 74/100\n",
      "72/72 [==============================] - 3s 37ms/step - loss: 9.1993e-04\n",
      "Epoch 75/100\n",
      "72/72 [==============================] - 3s 37ms/step - loss: 8.2427e-04\n",
      "Epoch 76/100\n",
      "72/72 [==============================] - 3s 37ms/step - loss: 8.8206e-04\n",
      "Epoch 77/100\n",
      "72/72 [==============================] - 3s 35ms/step - loss: 8.0796e-04\n",
      "Epoch 78/100\n",
      "72/72 [==============================] - 3s 35ms/step - loss: 8.5358e-04\n",
      "Epoch 79/100\n",
      "72/72 [==============================] - 2s 33ms/step - loss: 8.9197e-04\n",
      "Epoch 80/100\n",
      "72/72 [==============================] - 2s 33ms/step - loss: 8.1521e-04\n",
      "Epoch 81/100\n",
      "72/72 [==============================] - 2s 34ms/step - loss: 8.0747e-04\n",
      "Epoch 82/100\n",
      "72/72 [==============================] - 2s 34ms/step - loss: 8.2760e-04\n",
      "Epoch 83/100\n",
      "72/72 [==============================] - 2s 33ms/step - loss: 8.2830e-04\n",
      "Epoch 84/100\n",
      "72/72 [==============================] - 2s 33ms/step - loss: 8.6411e-04\n",
      "Epoch 85/100\n",
      "72/72 [==============================] - 2s 33ms/step - loss: 9.1519e-04\n",
      "Epoch 86/100\n",
      "72/72 [==============================] - 2s 33ms/step - loss: 8.0875e-04\n",
      "Epoch 87/100\n",
      "72/72 [==============================] - 2s 33ms/step - loss: 8.4519e-04\n",
      "Epoch 88/100\n",
      "72/72 [==============================] - 2s 33ms/step - loss: 8.9503e-04\n",
      "Epoch 89/100\n",
      "72/72 [==============================] - 2s 33ms/step - loss: 7.5044e-04\n",
      "Epoch 90/100\n",
      "72/72 [==============================] - 2s 33ms/step - loss: 7.9124e-04\n",
      "Epoch 91/100\n",
      "72/72 [==============================] - 2s 33ms/step - loss: 9.0404e-04\n",
      "Epoch 92/100\n",
      "72/72 [==============================] - 2s 34ms/step - loss: 7.7126e-04\n",
      "Epoch 93/100\n",
      "72/72 [==============================] - 2s 33ms/step - loss: 8.5597e-04\n",
      "Epoch 94/100\n",
      "72/72 [==============================] - 2s 34ms/step - loss: 9.2211e-04\n",
      "Epoch 95/100\n",
      "72/72 [==============================] - 2s 33ms/step - loss: 9.4415e-04\n",
      "Epoch 96/100\n",
      "72/72 [==============================] - 2s 33ms/step - loss: 8.1412e-04\n",
      "Epoch 97/100\n",
      "72/72 [==============================] - 2s 33ms/step - loss: 8.2864e-04\n",
      "Epoch 98/100\n",
      "72/72 [==============================] - 2s 33ms/step - loss: 7.7214e-04\n",
      "Epoch 99/100\n",
      "72/72 [==============================] - 2s 33ms/step - loss: 8.1589e-04\n",
      "Epoch 100/100\n",
      "72/72 [==============================] - 2s 33ms/step - loss: 8.1165e-04\n"
     ]
    },
    {
     "data": {
      "text/plain": [
       "<tensorflow.python.keras.callbacks.History at 0x22344550bc8>"
      ]
     },
     "execution_count": 5,
     "metadata": {},
     "output_type": "execute_result"
    }
   ],
   "source": [
    "forexPredictor.fit(x_train, y_train, epochs = 100, batch_size = 32)"
   ]
  },
  {
   "cell_type": "code",
   "execution_count": 6,
   "metadata": {},
   "outputs": [
    {
     "name": "stdout",
     "output_type": "stream",
     "text": [
      "0.9361749664210938\n"
     ]
    }
   ],
   "source": [
    "test_predictions = forexPredictor.predict(x_test)\n",
    "test_predictions = scaler.inverse_transform(test_predictions) \n",
    "\n",
    "\n",
    "rmse = np.sqrt(np.mean(((test_predictions - y_test) ** 2)))\n",
    "print(rmse)\n",
    "    \n"
   ]
  },
  {
   "cell_type": "code",
   "execution_count": 7,
   "metadata": {},
   "outputs": [
    {
     "name": "stdout",
     "output_type": "stream",
     "text": [
      "[*********************100%***********************]  1 of 1 completed\n",
      "[[1.21926014]\n",
      " [1.2191133 ]\n",
      " [1.21867936]\n",
      " [1.21822254]\n",
      " [1.21773619]]\n"
     ]
    }
   ],
   "source": [
    "end_date = (datetime.today() - timedelta(days=0)).strftime('%Y-%m-%d')\n",
    "start_date = (datetime.today() - timedelta(days=84)).strftime('%Y-%m-%d')\n",
    "user_df = yf.download(tickers='EURUSD=X', start=start_date, end=end_date, interval='1d')\n",
    "user_df = user_df.filter(['Close'])\n",
    "user_data_value = user_df.values\n",
    "user_data = scaler.transform(user_data_value)\n",
    "forex_input = []\n",
    "for i in range(60, len(user_data)):\n",
    "    forex_input.append(user_data[i - 60:i, 0])\n",
    "temp_input = list(forex_input)\n",
    "temp_input = temp_input[0].tolist()\n",
    "forex_input = np.array(forex_input)\n",
    "forex_input = np.reshape(forex_input, (forex_input.shape[0], forex_input.shape[1], 1))\n",
    "\n",
    "\n",
    "\n",
    "forex_output = []\n",
    "n_steps = 60\n",
    "i = 0\n",
    "\n",
    "while i < 5:\n",
    "\n",
    "        if (len(temp_input) > n_steps):\n",
    "            forex_input = np.array(temp_input[1:])\n",
    "            forex_input = forex_input.reshape(1, -1)\n",
    "            forex_input = forex_input.reshape((1, n_steps, 1))\n",
    "            pred_value = forexPredictor.predict(forex_input)\n",
    "            temp_input.extend(pred_value[0].tolist())\n",
    "            temp_input = temp_input[1:]\n",
    "            forex_output.extend(pred_value.tolist())\n",
    "            i = i + 1\n",
    "        else:\n",
    "            forex_input = forex_input.reshape((1, n_steps, 1))\n",
    "            pred_value = forexPredictor.predict(forex_input)\n",
    "            temp_input.extend(pred_value[0].tolist())\n",
    "            forex_output.extend(pred_value.tolist())\n",
    "            i = i + 1\n",
    "\n",
    "predictions = scaler.inverse_transform(forex_output)\n",
    "\n",
    "\n",
    "print(predictions)"
   ]
  },
  {
   "cell_type": "code",
   "execution_count": 8,
   "metadata": {},
   "outputs": [
    {
     "data": {
      "text/plain": [
       "Text(0, 0.5, 'Close Price USD ($)')"
      ]
     },
     "execution_count": 8,
     "metadata": {},
     "output_type": "execute_result"
    },
    {
     "data": {
      "image/png": "[encoded data removed]",
      "text/plain": [
       "<Figure size 1152x576 with 1 Axes>"
      ]
     },
     "metadata": {
      "needs_background": "light"
     },
     "output_type": "display_data"
    }
   ],
   "source": [
    "\n",
    "\n",
    "\n",
    "\n",
    "\n",
    "days = np.arange(1, 6)\n",
    "\n",
    "plt.figure(figsize=(16, 8))\n",
    "plt.title('Euro Close Price Predictions')\n",
    "plt.plot(days, predictions)\n",
    "\n",
    "plt.xlabel('Day', fontsize=10)\n",
    "plt.ylabel('Close Price USD ($)', fontsize=10)"
   ]
  },
  {
   "cell_type": "code",
   "execution_count": 9,
   "metadata": {},
   "outputs": [],
   "source": [
    "from numpy import newaxis"
   ]
  },
  {
   "cell_type": "code",
   "execution_count": 10,
   "metadata": {},
   "outputs": [],
   "source": [
    "def predict_sequences_multiple(model, data, window_size, prediction_len):\n",
    "    prediction_seqs = []\n",
    "    for i in range(int(len(data)/prediction_len)):\n",
    "        curr_frame = data[i*prediction_len]\n",
    "        predicted = []\n",
    "        for j in range(prediction_len):\n",
    "            predicted.append(model.predict(curr_frame[newaxis,:,:])[0,0])\n",
    "            curr_frame = curr_frame[1:]\n",
    "            curr_frame = np.insert(curr_frame, [window_size-1], predicted[-1], axis=0)\n",
    "        prediction_seqs.append(predicted)\n",
    "    return prediction_seqs\n",
    "\n",
    "\n",
    "def plot_results_multiple(predicted_data, true_data, prediction_len):\n",
    "    plt.figure(figsize=(50, 20))\n",
    "    fig = plt.figure(facecolor='white')\n",
    "    ax = fig.add_subplot(111)\n",
    "    ax.plot(true_data, label='True Data')\n",
    "    #Pad the list of predictions to shift it in the graph to it's correct start\n",
    "    for i, data in enumerate(predicted_data):\n",
    "        padding = [None for p in range(i * prediction_len)]\n",
    "        plt.plot(padding + data, label='Prediction')\n",
    "    plt.show()\n",
    "\n"
   ]
  },
  {
   "cell_type": "code",
   "execution_count": 11,
   "metadata": {},
   "outputs": [
    {
     "data": {
      "text/plain": [
       "<Figure size 3600x1440 with 0 Axes>"
      ]
     },
     "metadata": {},
     "output_type": "display_data"
    },
    {
     "data": {
      "image/png": "[encoded data removed]",
      "text/plain": [
       "<Figure size 432x288 with 1 Axes>"
      ]
     },
     "metadata": {},
     "output_type": "display_data"
    }
   ],
   "source": [
    "predictions = predict_sequences_multiple(forexPredictor, x_test, 60, 5)\n",
    "\n",
    "plot_results_multiple(predictions, y_test, 5)\n"
   ]
  }
 ],
 "metadata": {
  "kernelspec": {
   "display_name": "Python 3",
   "language": "python",
   "name": "python3"
  },
  "language_info": {
   "codemirror_mode": {
    "name": "ipython",
    "version": 3
   },
   "file_extension": ".py",
   "mimetype": "text/x-python",
   "name": "python",
   "nbconvert_exporter": "python",
   "pygments_lexer": "ipython3",
   "version": "3.7.9"
  }
 },
 "nbformat": 4,
 "nbformat_minor": 4
}
