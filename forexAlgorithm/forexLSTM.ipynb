{
 "cells": [
  {
   "cell_type": "code",
   "execution_count": 1,
   "metadata": {},
   "outputs": [],
   "source": [
    "import numpy as np\n",
    "import matplotlib.pyplot as plt\n",
    "import pandas_datareader as web\n",
    "import pandas as pd\n",
    "import math"
   ]
  },
  {
   "cell_type": "code",
   "execution_count": 2,
   "metadata": {},
   "outputs": [],
   "source": [
    "data = web.DataReader('EURUSD=X', data_source='yahoo', start='2011-12-31', end='2019-12-31') "
   ]
  },
  {
   "cell_type": "code",
   "execution_count": 3,
   "metadata": {},
   "outputs": [],
   "source": [
    "data_close = data.filter(['Close'])\n",
    "dataset = data_close.values"
   ]
  },
  {
   "cell_type": "code",
   "execution_count": 4,
   "metadata": {},
   "outputs": [],
   "source": [
    "train_len = math.ceil( len(dataset) *.8)"
   ]
  },
  {
   "cell_type": "code",
   "execution_count": 5,
   "metadata": {},
   "outputs": [],
   "source": [
    "from sklearn.preprocessing import MinMaxScaler\n",
    "scaler = MinMaxScaler(feature_range = (0, 1))\n",
    "training_data = scaler.fit_transform(dataset[:train_len , : ])"
   ]
  },
  {
   "cell_type": "code",
   "execution_count": 6,
   "metadata": {},
   "outputs": [],
   "source": [
    "x_train =[]\n",
    "y_train =[]\n",
    "for i in range(60, len(training_data)):\n",
    "  x_train.append(training_data[i-60:i,0])\n",
    "  y_train.append(training_data[i,0])"
   ]
  },
  {
   "cell_type": "code",
   "execution_count": 7,
   "metadata": {},
   "outputs": [],
   "source": [
    "x_train,y_train = np.array(x_train), np.array(y_train)\n",
    "x_train= np.reshape(x_train,( x_train.shape[0] ,x_train.shape[1] ,1))"
   ]
  },
  {
   "cell_type": "code",
   "execution_count": 8,
   "metadata": {},
   "outputs": [],
   "source": [
    "from keras.models import Sequential\n",
    "from keras.layers import Dense\n",
    "from keras.layers import LSTM\n",
    "from keras.layers import Dropout\n",
    "model = Sequential()\n",
    "model.add(LSTM(50, return_sequences = True, input_shape=(x_train.shape[1], 1)))\n",
    "model.add(LSTM( 50, return_sequences = False))\n",
    "model.add(Dropout(0.2))\n",
    "model.add(Dense(25))\n",
    "model.add(Dense(1))\n",
    "model.compile(optimizer = 'adam', loss = 'mean_squared_error')\n",
    "model.save('lstm_model.h5')"
   ]
  },
  {
   "cell_type": "code",
   "execution_count": 9,
   "metadata": {},
   "outputs": [
    {
     "name": "stdout",
     "output_type": "stream",
     "text": [
      "Epoch 1/100\n",
      "51/51 [==============================] - 4s 33ms/step - loss: 0.0418\n",
      "Epoch 2/100\n",
      "51/51 [==============================] - 2s 31ms/step - loss: 0.0042\n",
      "Epoch 3/100\n",
      "51/51 [==============================] - 2s 32ms/step - loss: 0.0036\n",
      "Epoch 4/100\n",
      "51/51 [==============================] - 2s 31ms/step - loss: 0.0029\n",
      "Epoch 5/100\n",
      "51/51 [==============================] - 2s 31ms/step - loss: 0.0028\n",
      "Epoch 6/100\n",
      "51/51 [==============================] - 2s 29ms/step - loss: 0.0026\n",
      "Epoch 7/100\n",
      "51/51 [==============================] - 2s 30ms/step - loss: 0.0027\n",
      "Epoch 8/100\n",
      "51/51 [==============================] - 2s 31ms/step - loss: 0.0025\n",
      "Epoch 9/100\n",
      "51/51 [==============================] - 2s 32ms/step - loss: 0.0026\n",
      "Epoch 10/100\n",
      "51/51 [==============================] - 2s 31ms/step - loss: 0.0021\n",
      "Epoch 11/100\n",
      "51/51 [==============================] - 2s 31ms/step - loss: 0.0022: 0s - loss: 0.\n",
      "Epoch 12/100\n",
      "51/51 [==============================] - 2s 29ms/step - loss: 0.0019\n",
      "Epoch 13/100\n",
      "51/51 [==============================] - 2s 31ms/step - loss: 0.0022\n",
      "Epoch 14/100\n",
      "51/51 [==============================] - 2s 30ms/step - loss: 0.0019\n",
      "Epoch 15/100\n",
      "51/51 [==============================] - 2s 30ms/step - loss: 0.0019\n",
      "Epoch 16/100\n",
      "51/51 [==============================] - 2s 30ms/step - loss: 0.0018\n",
      "Epoch 17/100\n",
      "51/51 [==============================] - 2s 29ms/step - loss: 0.0016\n",
      "Epoch 18/100\n",
      "51/51 [==============================] - 2s 30ms/step - loss: 0.0016\n",
      "Epoch 19/100\n",
      "51/51 [==============================] - 2s 30ms/step - loss: 0.0015\n",
      "Epoch 20/100\n",
      "51/51 [==============================] - 2s 30ms/step - loss: 0.0014\n",
      "Epoch 21/100\n",
      "51/51 [==============================] - 2s 30ms/step - loss: 0.0015\n",
      "Epoch 22/100\n",
      "51/51 [==============================] - 2s 30ms/step - loss: 0.0014\n",
      "Epoch 23/100\n",
      "51/51 [==============================] - 2s 30ms/step - loss: 0.0013\n",
      "Epoch 24/100\n",
      "51/51 [==============================] - 2s 30ms/step - loss: 0.0013\n",
      "Epoch 25/100\n",
      "51/51 [==============================] - 2s 30ms/step - loss: 0.0012\n",
      "Epoch 26/100\n",
      "51/51 [==============================] - 2s 30ms/step - loss: 0.0012\n",
      "Epoch 27/100\n",
      "51/51 [==============================] - 2s 30ms/step - loss: 0.0015\n",
      "Epoch 28/100\n",
      "51/51 [==============================] - 1s 29ms/step - loss: 0.0011\n",
      "Epoch 29/100\n",
      "51/51 [==============================] - 2s 30ms/step - loss: 0.0013\n",
      "Epoch 30/100\n",
      "51/51 [==============================] - 2s 30ms/step - loss: 0.0012\n",
      "Epoch 31/100\n",
      "51/51 [==============================] - 2s 30ms/step - loss: 0.0012\n",
      "Epoch 32/100\n",
      "51/51 [==============================] - 2s 30ms/step - loss: 0.0010\n",
      "Epoch 33/100\n",
      "51/51 [==============================] - 2s 29ms/step - loss: 0.0013\n",
      "Epoch 34/100\n",
      "51/51 [==============================] - 2s 29ms/step - loss: 0.0012\n",
      "Epoch 35/100\n",
      "51/51 [==============================] - 2s 30ms/step - loss: 0.0011\n",
      "Epoch 36/100\n",
      "51/51 [==============================] - 2s 30ms/step - loss: 0.0011\n",
      "Epoch 37/100\n",
      "51/51 [==============================] - 2s 29ms/step - loss: 0.0011\n",
      "Epoch 38/100\n",
      "51/51 [==============================] - 2s 29ms/step - loss: 0.0011\n",
      "Epoch 39/100\n",
      "51/51 [==============================] - 2s 29ms/step - loss: 0.0011\n",
      "Epoch 40/100\n",
      "51/51 [==============================] - 2s 30ms/step - loss: 0.0011\n",
      "Epoch 41/100\n",
      "51/51 [==============================] - 1s 29ms/step - loss: 0.0012\n",
      "Epoch 42/100\n",
      "51/51 [==============================] - 2s 30ms/step - loss: 0.0013\n",
      "Epoch 43/100\n",
      "51/51 [==============================] - 2s 29ms/step - loss: 0.0012\n",
      "Epoch 44/100\n",
      "51/51 [==============================] - 2s 30ms/step - loss: 0.0010\n",
      "Epoch 45/100\n",
      "51/51 [==============================] - 2s 30ms/step - loss: 0.0011\n",
      "Epoch 46/100\n",
      "51/51 [==============================] - 2s 30ms/step - loss: 0.0010\n",
      "Epoch 47/100\n",
      "51/51 [==============================] - 2s 30ms/step - loss: 0.0011\n",
      "Epoch 48/100\n",
      "51/51 [==============================] - 2s 29ms/step - loss: 0.0010\n",
      "Epoch 49/100\n",
      "51/51 [==============================] - 2s 30ms/step - loss: 0.0011\n",
      "Epoch 50/100\n",
      "51/51 [==============================] - 2s 30ms/step - loss: 0.0011\n",
      "Epoch 51/100\n",
      "51/51 [==============================] - 2s 30ms/step - loss: 9.9557e-04\n",
      "Epoch 52/100\n",
      "51/51 [==============================] - 2s 30ms/step - loss: 0.0011\n",
      "Epoch 53/100\n",
      "51/51 [==============================] - 2s 30ms/step - loss: 9.5955e-04\n",
      "Epoch 54/100\n",
      "51/51 [==============================] - 2s 30ms/step - loss: 0.0010\n",
      "Epoch 55/100\n",
      "51/51 [==============================] - 2s 30ms/step - loss: 9.3390e-04\n",
      "Epoch 56/100\n",
      "51/51 [==============================] - 2s 30ms/step - loss: 9.5221e-04\n",
      "Epoch 57/100\n",
      "51/51 [==============================] - 2s 30ms/step - loss: 9.3085e-04\n",
      "Epoch 58/100\n",
      "51/51 [==============================] - 1s 29ms/step - loss: 0.0010\n",
      "Epoch 59/100\n",
      "51/51 [==============================] - 2s 29ms/step - loss: 9.6631e-04\n",
      "Epoch 60/100\n",
      "51/51 [==============================] - 2s 30ms/step - loss: 9.4323e-04\n",
      "Epoch 61/100\n",
      "51/51 [==============================] - 2s 30ms/step - loss: 0.0011\n",
      "Epoch 62/100\n",
      "51/51 [==============================] - 2s 30ms/step - loss: 9.3549e-04\n",
      "Epoch 63/100\n",
      "51/51 [==============================] - 2s 30ms/step - loss: 9.2381e-04\n",
      "Epoch 64/100\n",
      "51/51 [==============================] - 2s 30ms/step - loss: 9.9213e-04\n",
      "Epoch 65/100\n",
      "51/51 [==============================] - 2s 30ms/step - loss: 0.0012\n",
      "Epoch 66/100\n",
      "51/51 [==============================] - 2s 30ms/step - loss: 0.0010\n",
      "Epoch 67/100\n",
      "51/51 [==============================] - 2s 30ms/step - loss: 9.4572e-04\n",
      "Epoch 68/100\n",
      "51/51 [==============================] - 2s 30ms/step - loss: 8.5732e-04\n",
      "Epoch 69/100\n",
      "51/51 [==============================] - 2s 30ms/step - loss: 9.1377e-04\n",
      "Epoch 70/100\n",
      "51/51 [==============================] - 2s 29ms/step - loss: 9.8066e-04\n",
      "Epoch 71/100\n",
      "51/51 [==============================] - 2s 30ms/step - loss: 0.0010\n",
      "Epoch 72/100\n",
      "51/51 [==============================] - 2s 30ms/step - loss: 9.3678e-04\n",
      "Epoch 73/100\n",
      "51/51 [==============================] - 2s 30ms/step - loss: 0.0010\n",
      "Epoch 74/100\n",
      "51/51 [==============================] - 2s 30ms/step - loss: 9.7520e-04\n",
      "Epoch 75/100\n",
      "51/51 [==============================] - 2s 30ms/step - loss: 8.9495e-04\n",
      "Epoch 76/100\n",
      "51/51 [==============================] - 2s 30ms/step - loss: 9.5553e-04\n",
      "Epoch 77/100\n",
      "51/51 [==============================] - 2s 30ms/step - loss: 0.0010\n",
      "Epoch 78/100\n",
      "51/51 [==============================] - 2s 30ms/step - loss: 9.1001e-04\n",
      "Epoch 79/100\n",
      "51/51 [==============================] - 2s 29ms/step - loss: 8.4685e-04\n",
      "Epoch 80/100\n",
      "51/51 [==============================] - 2s 30ms/step - loss: 8.5177e-04\n",
      "Epoch 81/100\n",
      "51/51 [==============================] - 2s 30ms/step - loss: 9.0882e-04\n",
      "Epoch 82/100\n",
      "51/51 [==============================] - 2s 30ms/step - loss: 8.5264e-04\n",
      "Epoch 83/100\n",
      "51/51 [==============================] - 2s 29ms/step - loss: 0.0010\n",
      "Epoch 84/100\n",
      "51/51 [==============================] - 2s 29ms/step - loss: 0.0010\n",
      "Epoch 85/100\n",
      "51/51 [==============================] - 2s 30ms/step - loss: 0.0010\n",
      "Epoch 86/100\n",
      "51/51 [==============================] - 2s 29ms/step - loss: 9.1615e-04\n",
      "Epoch 87/100\n",
      "51/51 [==============================] - 2s 30ms/step - loss: 8.7283e-04\n",
      "Epoch 88/100\n",
      "51/51 [==============================] - 2s 30ms/step - loss: 8.2902e-04\n",
      "Epoch 89/100\n",
      "51/51 [==============================] - 2s 30ms/step - loss: 8.8541e-04\n",
      "Epoch 90/100\n",
      "51/51 [==============================] - 2s 30ms/step - loss: 9.2480e-04\n",
      "Epoch 91/100\n",
      "51/51 [==============================] - 2s 30ms/step - loss: 9.1706e-04\n",
      "Epoch 92/100\n",
      "51/51 [==============================] - 2s 30ms/step - loss: 8.3785e-04\n",
      "Epoch 93/100\n",
      "51/51 [==============================] - 2s 30ms/step - loss: 8.8647e-04\n",
      "Epoch 94/100\n",
      "51/51 [==============================] - 2s 31ms/step - loss: 8.4530e-04\n",
      "Epoch 95/100\n",
      "51/51 [==============================] - 2s 31ms/step - loss: 0.0010\n",
      "Epoch 96/100\n",
      "51/51 [==============================] - 2s 30ms/step - loss: 8.7088e-04\n",
      "Epoch 97/100\n",
      "51/51 [==============================] - 2s 30ms/step - loss: 8.6825e-04\n",
      "Epoch 98/100\n",
      "51/51 [==============================] - 2s 30ms/step - loss: 9.1180e-04\n",
      "Epoch 99/100\n",
      "51/51 [==============================] - 2s 30ms/step - loss: 8.3186e-04\n",
      "Epoch 100/100\n",
      "51/51 [==============================] - 2s 30ms/step - loss: 8.6702e-04\n"
     ]
    },
    {
     "data": {
      "text/plain": [
       "<tensorflow.python.keras.callbacks.History at 0x209a5cf29c8>"
      ]
     },
     "execution_count": 9,
     "metadata": {},
     "output_type": "execute_result"
    }
   ],
   "source": [
    "model.fit(x_train, y_train, epochs = 100, batch_size = 32)"
   ]
  },
  {
   "cell_type": "code",
   "execution_count": 10,
   "metadata": {},
   "outputs": [
    {
     "data": {
      "text/plain": [
       "(416, 60, 1)"
      ]
     },
     "execution_count": 10,
     "metadata": {},
     "output_type": "execute_result"
    }
   ],
   "source": [
    "#remaining 20%\n",
    "test_data = scaler.transform(dataset[train_len - 60: , : ])\n",
    "x_test = []\n",
    "for i in range(60,len(test_data)):\n",
    "  x_test.append(test_data[i-60:i,0])\n",
    "  \n",
    "x_test = np.array(x_test)\n",
    "x_test = np.reshape(x_test, (x_test.shape[0],x_test.shape[1],1))\n",
    "x_test.shape"
   ]
  },
  {
   "cell_type": "code",
   "execution_count": 11,
   "metadata": {},
   "outputs": [
    {
     "data": {
      "text/plain": [
       "(416, 1)"
      ]
     },
     "execution_count": 11,
     "metadata": {},
     "output_type": "execute_result"
    }
   ],
   "source": [
    "predictions = model.predict(x_test)\n",
    "predictions = scaler.inverse_transform(predictions)# importance of transforme only\n",
    "predictions.shape"
   ]
  },
  {
   "cell_type": "code",
   "execution_count": 12,
   "metadata": {},
   "outputs": [],
   "source": [
    "model.save('lstm_model.h5')"
   ]
  }
 ],
 "metadata": {
  "kernelspec": {
   "display_name": "Python 3",
   "language": "python",
   "name": "python3"
  },
  "language_info": {
   "codemirror_mode": {
    "name": "ipython",
    "version": 3
   },
   "file_extension": ".py",
   "mimetype": "text/x-python",
   "name": "python",
   "nbconvert_exporter": "python",
   "pygments_lexer": "ipython3",
   "version": "3.7.9"
  }
 },
 "nbformat": 4,
 "nbformat_minor": 4
}
