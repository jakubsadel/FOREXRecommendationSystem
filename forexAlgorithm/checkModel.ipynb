{
 "cells": [
  {
   "cell_type": "code",
   "execution_count": 9,
   "metadata": {},
   "outputs": [],
   "source": [
    "import numpy as np\n",
    "import matplotlib.pyplot as plt\n",
    "import pandas as pd\n",
    "import pandas_datareader as web\n",
    "import math\n",
    "import yfinance as yf"
   ]
  },
  {
   "cell_type": "code",
   "execution_count": 14,
   "metadata": {},
   "outputs": [
    {
     "name": "stdout",
     "output_type": "stream",
     "text": [
      "[*********************100%***********************]  1 of 1 completed\n",
      "\n",
      "1 Failed download:\n",
      "- EURUSD=X: 15m data not available for startTime=1577833200 and endTime=1588629600. The requested range must be within the last 60 days.\n"
     ]
    },
    {
     "data": {
      "text/html": [
       "<div>\n",
       "<style scoped>\n",
       "    .dataframe tbody tr th:only-of-type {\n",
       "        vertical-align: middle;\n",
       "    }\n",
       "\n",
       "    .dataframe tbody tr th {\n",
       "        vertical-align: top;\n",
       "    }\n",
       "\n",
       "    .dataframe thead th {\n",
       "        text-align: right;\n",
       "    }\n",
       "</style>\n",
       "<table border=\"1\" class=\"dataframe\">\n",
       "  <thead>\n",
       "    <tr style=\"text-align: right;\">\n",
       "      <th></th>\n",
       "      <th>Open</th>\n",
       "      <th>High</th>\n",
       "      <th>Low</th>\n",
       "      <th>Close</th>\n",
       "      <th>Adj Close</th>\n",
       "      <th>Volume</th>\n",
       "    </tr>\n",
       "    <tr>\n",
       "      <th>Date</th>\n",
       "      <th></th>\n",
       "      <th></th>\n",
       "      <th></th>\n",
       "      <th></th>\n",
       "      <th></th>\n",
       "      <th></th>\n",
       "    </tr>\n",
       "  </thead>\n",
       "  <tbody>\n",
       "  </tbody>\n",
       "</table>\n",
       "</div>"
      ],
      "text/plain": [
       "Empty DataFrame\n",
       "Columns: [Open, High, Low, Close, Adj Close, Volume]\n",
       "Index: []"
      ]
     },
     "execution_count": 14,
     "metadata": {},
     "output_type": "execute_result"
    }
   ],
   "source": [
    "    new = yf.download(tickers ='EURUSD=X',start ='2020-01-01',end ='2020-05-05',interval= '15m' )\n",
    "new"
   ]
  },
  {
   "cell_type": "code",
   "execution_count": 11,
   "metadata": {},
   "outputs": [
    {
     "data": {
      "text/html": [
       "<div>\n",
       "<style scoped>\n",
       "    .dataframe tbody tr th:only-of-type {\n",
       "        vertical-align: middle;\n",
       "    }\n",
       "\n",
       "    .dataframe tbody tr th {\n",
       "        vertical-align: top;\n",
       "    }\n",
       "\n",
       "    .dataframe thead th {\n",
       "        text-align: right;\n",
       "    }\n",
       "</style>\n",
       "<table border=\"1\" class=\"dataframe\">\n",
       "  <thead>\n",
       "    <tr style=\"text-align: right;\">\n",
       "      <th></th>\n",
       "      <th>High</th>\n",
       "      <th>Low</th>\n",
       "      <th>Open</th>\n",
       "      <th>Close</th>\n",
       "      <th>Volume</th>\n",
       "      <th>Adj Close</th>\n",
       "    </tr>\n",
       "    <tr>\n",
       "      <th>Date</th>\n",
       "      <th></th>\n",
       "      <th></th>\n",
       "      <th></th>\n",
       "      <th></th>\n",
       "      <th></th>\n",
       "      <th></th>\n",
       "    </tr>\n",
       "  </thead>\n",
       "  <tbody>\n",
       "    <tr>\n",
       "      <th>2020-01-01</th>\n",
       "      <td>1.122838</td>\n",
       "      <td>1.115947</td>\n",
       "      <td>1.122083</td>\n",
       "      <td>1.122083</td>\n",
       "      <td>0</td>\n",
       "      <td>1.122083</td>\n",
       "    </tr>\n",
       "    <tr>\n",
       "      <th>2020-01-02</th>\n",
       "      <td>1.122712</td>\n",
       "      <td>1.116682</td>\n",
       "      <td>1.121894</td>\n",
       "      <td>1.122083</td>\n",
       "      <td>0</td>\n",
       "      <td>1.122083</td>\n",
       "    </tr>\n",
       "    <tr>\n",
       "      <th>2020-01-03</th>\n",
       "      <td>1.118068</td>\n",
       "      <td>1.112570</td>\n",
       "      <td>1.117081</td>\n",
       "      <td>1.117144</td>\n",
       "      <td>0</td>\n",
       "      <td>1.117144</td>\n",
       "    </tr>\n",
       "    <tr>\n",
       "      <th>2020-01-06</th>\n",
       "      <td>1.120825</td>\n",
       "      <td>1.115810</td>\n",
       "      <td>1.116246</td>\n",
       "      <td>1.116196</td>\n",
       "      <td>0</td>\n",
       "      <td>1.116196</td>\n",
       "    </tr>\n",
       "    <tr>\n",
       "      <th>2020-01-07</th>\n",
       "      <td>1.119946</td>\n",
       "      <td>1.113487</td>\n",
       "      <td>1.119583</td>\n",
       "      <td>1.119799</td>\n",
       "      <td>0</td>\n",
       "      <td>1.119799</td>\n",
       "    </tr>\n",
       "    <tr>\n",
       "      <th>...</th>\n",
       "      <td>...</td>\n",
       "      <td>...</td>\n",
       "      <td>...</td>\n",
       "      <td>...</td>\n",
       "      <td>...</td>\n",
       "      <td>...</td>\n",
       "    </tr>\n",
       "    <tr>\n",
       "      <th>2020-04-29</th>\n",
       "      <td>1.096996</td>\n",
       "      <td>1.083565</td>\n",
       "      <td>1.087666</td>\n",
       "      <td>1.087725</td>\n",
       "      <td>0</td>\n",
       "      <td>1.087725</td>\n",
       "    </tr>\n",
       "    <tr>\n",
       "      <th>2020-04-30</th>\n",
       "      <td>1.101625</td>\n",
       "      <td>1.093542</td>\n",
       "      <td>1.094475</td>\n",
       "      <td>1.094547</td>\n",
       "      <td>0</td>\n",
       "      <td>1.094547</td>\n",
       "    </tr>\n",
       "    <tr>\n",
       "      <th>2020-05-03</th>\n",
       "      <td>1.095782</td>\n",
       "      <td>1.090132</td>\n",
       "      <td>1.095746</td>\n",
       "      <td>1.095963</td>\n",
       "      <td>0</td>\n",
       "      <td>1.095963</td>\n",
       "    </tr>\n",
       "    <tr>\n",
       "      <th>2020-05-04</th>\n",
       "      <td>1.092132</td>\n",
       "      <td>1.082696</td>\n",
       "      <td>1.090453</td>\n",
       "      <td>1.090429</td>\n",
       "      <td>0</td>\n",
       "      <td>1.090429</td>\n",
       "    </tr>\n",
       "    <tr>\n",
       "      <th>2020-05-05</th>\n",
       "      <td>1.084481</td>\n",
       "      <td>1.078423</td>\n",
       "      <td>1.084011</td>\n",
       "      <td>1.083858</td>\n",
       "      <td>0</td>\n",
       "      <td>1.083858</td>\n",
       "    </tr>\n",
       "  </tbody>\n",
       "</table>\n",
       "<p>91 rows × 6 columns</p>\n",
       "</div>"
      ],
      "text/plain": [
       "                High       Low      Open     Close  Volume  Adj Close\n",
       "Date                                                                 \n",
       "2020-01-01  1.122838  1.115947  1.122083  1.122083       0   1.122083\n",
       "2020-01-02  1.122712  1.116682  1.121894  1.122083       0   1.122083\n",
       "2020-01-03  1.118068  1.112570  1.117081  1.117144       0   1.117144\n",
       "2020-01-06  1.120825  1.115810  1.116246  1.116196       0   1.116196\n",
       "2020-01-07  1.119946  1.113487  1.119583  1.119799       0   1.119799\n",
       "...              ...       ...       ...       ...     ...        ...\n",
       "2020-04-29  1.096996  1.083565  1.087666  1.087725       0   1.087725\n",
       "2020-04-30  1.101625  1.093542  1.094475  1.094547       0   1.094547\n",
       "2020-05-03  1.095782  1.090132  1.095746  1.095963       0   1.095963\n",
       "2020-05-04  1.092132  1.082696  1.090453  1.090429       0   1.090429\n",
       "2020-05-05  1.084481  1.078423  1.084011  1.083858       0   1.083858\n",
       "\n",
       "[91 rows x 6 columns]"
      ]
     },
     "execution_count": 11,
     "metadata": {},
     "output_type": "execute_result"
    }
   ],
   "source": [
    "new = web.DataReader('EURUSD=X', data_source='yahoo', start='2020-01-01', end='2020-05-05') \n",
    "\n",
    "new"
   ]
  },
  {
   "cell_type": "code",
   "execution_count": 3,
   "metadata": {},
   "outputs": [],
   "source": [
    "from sklearn.preprocessing import MinMaxScaler\n",
    "scaler = MinMaxScaler(feature_range = (0, 1))"
   ]
  },
  {
   "cell_type": "code",
   "execution_count": 4,
   "metadata": {},
   "outputs": [],
   "source": [
    "new = new.filter(['Close'])\n",
    "new_dataset = new.values"
   ]
  },
  {
   "cell_type": "code",
   "execution_count": 5,
   "metadata": {},
   "outputs": [],
   "source": [
    "from tensorflow import keras\n",
    "model = keras.models.load_model('lstm_model.h5')"
   ]
  },
  {
   "cell_type": "code",
   "execution_count": 6,
   "metadata": {},
   "outputs": [],
   "source": [
    "test = []\n",
    "for i in range(60,len(new_dataset)):\n",
    "  test.append(new_dataset[i-60:i,0])\n",
    "  \n",
    "test = np.array(test)\n",
    "test = np.reshape(test, (test.shape[0],test.shape[1],1))\n",
    "new_predictions = model.predict(test)\n"
   ]
  },
  {
   "cell_type": "code",
   "execution_count": 7,
   "metadata": {},
   "outputs": [
    {
     "data": {
      "text/plain": [
       "(30, 1)"
      ]
     },
     "execution_count": 7,
     "metadata": {},
     "output_type": "execute_result"
    }
   ],
   "source": [
    "new_predictions.shape"
   ]
  }
 ],
 "metadata": {
  "kernelspec": {
   "display_name": "Python 3",
   "language": "python",
   "name": "python3"
  },
  "language_info": {
   "codemirror_mode": {
    "name": "ipython",
    "version": 3
   },
   "file_extension": ".py",
   "mimetype": "text/x-python",
   "name": "python",
   "nbconvert_exporter": "python",
   "pygments_lexer": "ipython3",
   "version": "3.7.9"
  }
 },
 "nbformat": 4,
 "nbformat_minor": 4
}
